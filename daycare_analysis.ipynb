{
 "cells": [
  {
   "cell_type": "code",
   "execution_count": 1,
   "metadata": {},
   "outputs": [],
   "source": [
    "import pandas as pd"
   ]
  },
  {
   "cell_type": "code",
   "execution_count": 2,
   "metadata": {},
   "outputs": [
    {
     "data": {
      "text/html": [
       "<div>\n",
       "<style scoped>\n",
       "    .dataframe tbody tr th:only-of-type {\n",
       "        vertical-align: middle;\n",
       "    }\n",
       "\n",
       "    .dataframe tbody tr th {\n",
       "        vertical-align: top;\n",
       "    }\n",
       "\n",
       "    .dataframe thead th {\n",
       "        text-align: right;\n",
       "    }\n",
       "</style>\n",
       "<table border=\"1\" class=\"dataframe\">\n",
       "  <thead>\n",
       "    <tr style=\"text-align: right;\">\n",
       "      <th></th>\n",
       "      <th>Name</th>\n",
       "      <th>Date_of_birth</th>\n",
       "      <th>Infant</th>\n",
       "      <th>I_start_date</th>\n",
       "      <th>I_transition_date</th>\n",
       "      <th>Toddler</th>\n",
       "      <th>T_start_date</th>\n",
       "      <th>T_transition_date</th>\n",
       "    </tr>\n",
       "  </thead>\n",
       "  <tbody>\n",
       "    <tr>\n",
       "      <th>0</th>\n",
       "      <td>Owen Davey</td>\n",
       "      <td>2023-12-19</td>\n",
       "      <td>INFANT1</td>\n",
       "      <td>2025-01-13</td>\n",
       "      <td>2025-09-01</td>\n",
       "      <td>TODDLER4</td>\n",
       "      <td>2025-09-02</td>\n",
       "      <td>NaT</td>\n",
       "    </tr>\n",
       "    <tr>\n",
       "      <th>1</th>\n",
       "      <td>Vesper Boyd</td>\n",
       "      <td>2024-02-21</td>\n",
       "      <td>INFANT1</td>\n",
       "      <td>2025-01-06</td>\n",
       "      <td>2025-08-05</td>\n",
       "      <td>TODDLER3</td>\n",
       "      <td>2025-08-06</td>\n",
       "      <td>NaT</td>\n",
       "    </tr>\n",
       "    <tr>\n",
       "      <th>2</th>\n",
       "      <td>Logan Mitchell</td>\n",
       "      <td>2024-02-29</td>\n",
       "      <td>INFANT1</td>\n",
       "      <td>2025-03-03</td>\n",
       "      <td>2025-09-02</td>\n",
       "      <td>TODDLER1</td>\n",
       "      <td>2025-09-03</td>\n",
       "      <td>NaT</td>\n",
       "    </tr>\n",
       "    <tr>\n",
       "      <th>3</th>\n",
       "      <td>Jade Mia Kolunovsky</td>\n",
       "      <td>2024-02-04</td>\n",
       "      <td>INFANT1</td>\n",
       "      <td>2025-02-10</td>\n",
       "      <td>2025-08-05</td>\n",
       "      <td>TODDLER1</td>\n",
       "      <td>2025-08-06</td>\n",
       "      <td>NaT</td>\n",
       "    </tr>\n",
       "    <tr>\n",
       "      <th>4</th>\n",
       "      <td>Rowen Tiger</td>\n",
       "      <td>2024-03-19</td>\n",
       "      <td>INFANT1</td>\n",
       "      <td>2025-01-06</td>\n",
       "      <td>2025-09-02</td>\n",
       "      <td>TODDLER1</td>\n",
       "      <td>2025-09-03</td>\n",
       "      <td>NaT</td>\n",
       "    </tr>\n",
       "  </tbody>\n",
       "</table>\n",
       "</div>"
      ],
      "text/plain": [
       "                  Name Date_of_birth   Infant I_start_date I_transition_date  \\\n",
       "0           Owen Davey    2023-12-19  INFANT1   2025-01-13        2025-09-01   \n",
       "1          Vesper Boyd    2024-02-21  INFANT1   2025-01-06        2025-08-05   \n",
       "2       Logan Mitchell    2024-02-29  INFANT1   2025-03-03        2025-09-02   \n",
       "3  Jade Mia Kolunovsky    2024-02-04  INFANT1   2025-02-10        2025-08-05   \n",
       "4          Rowen Tiger    2024-03-19  INFANT1   2025-01-06        2025-09-02   \n",
       "\n",
       "    Toddler T_start_date T_transition_date  \n",
       "0  TODDLER4   2025-09-02               NaT  \n",
       "1  TODDLER3   2025-08-06               NaT  \n",
       "2  TODDLER1   2025-09-03               NaT  \n",
       "3  TODDLER1   2025-08-06               NaT  \n",
       "4  TODDLER1   2025-09-03               NaT  "
      ]
     },
     "execution_count": 2,
     "metadata": {},
     "output_type": "execute_result"
    }
   ],
   "source": [
    "file = pd.read_excel('daycare.xlsx')\n",
    "file.head()"
   ]
  },
  {
   "cell_type": "code",
   "execution_count": null,
   "metadata": {},
   "outputs": [],
   "source": [
    "# Convert dates to datetime.date format\n",
    "\n",
    "for date_ in [\"Date_of_birth\", \"I_start_date\", \"I_transition_date\", \"T_start_date\", \"T_transition_date\"]:\n",
    "    file[date_] = pd.to_datetime(file[date_]).dt.date"
   ]
  },
  {
   "cell_type": "code",
   "execution_count": null,
   "metadata": {},
   "outputs": [],
   "source": [
    "from entities import Child, Daycare\n",
    "from datetime import date\n",
    "\n",
    "daycare = Daycare()\n",
    "daycare.create_date_dicts(start_date=date(2024, 3, 25), end_date=date(2027, 3, 25))\n",
    "\n",
    "for row in file.itertuples():\n",
    "    child = Child(name=row.Name, date_of_birth=row.Date_of_birth)\n",
    "    child.add_infant(classroom=row.Infant, start_date=row.I_start_date, transition_date=row.I_transition_date)\n",
    "    # child.add_toddler(classroom=row.Toddler, start_date=row.T_start_date, transition_date=row.T_transition_date)\n",
    "    # child.add_preschool(classroom=row.Preschool, start_date=row.P_start_date, transition_date=row.P_transition_date)\n",
    "    \n",
    "    daycare.add_child(child)"
   ]
  },
  {
   "cell_type": "markdown",
   "metadata": {},
   "source": [
    "### Vacancy metrics"
   ]
  },
  {
   "cell_type": "code",
   "execution_count": null,
   "metadata": {},
   "outputs": [],
   "source": [
    "start_date = date(2024, 3, 25)\n",
    "end_date = date(2025, 3, 25)"
   ]
  },
  {
   "cell_type": "code",
   "execution_count": null,
   "metadata": {},
   "outputs": [],
   "source": [
    "vacant_places_rate = daycare.compute_vacant_places_rate_on_period(start_date, end_date)\n",
    "print(f\"The vacant places rate between {start_date} and {end_date} is {vacant_places_rate:.2%}\")"
   ]
  },
  {
   "cell_type": "code",
   "execution_count": null,
   "metadata": {},
   "outputs": [],
   "source": [
    "for stage in [\"INFANT\", \"TODDLER\", \"PRESCHOOL\"]:\n",
    "    vacant_places_rate = daycare.compute_vacant_places_rate_on_period_stage(stage, start_date, end_date)\n",
    "    print(f\"Vacant places rate for stage {stage} between {start_date} and {end_date}: {vacant_places_rate:.2%}\")"
   ]
  },
  {
   "cell_type": "markdown",
   "metadata": {},
   "source": [
    "### Categorization"
   ]
  },
  {
   "cell_type": "code",
   "execution_count": null,
   "metadata": {},
   "outputs": [],
   "source": [
    "daycare.update_categories_distributions()\n",
    "print(f\"Start categories distribution: {daycare.start_categories}\")\n",
    "print(f\"Transition categories distribution: {daycare.transition_categories}\")"
   ]
  },
  {
   "cell_type": "code",
   "execution_count": null,
   "metadata": {},
   "outputs": [],
   "source": []
  },
  {
   "cell_type": "markdown",
   "metadata": {},
   "source": [
    "### Transition of the week"
   ]
  },
  {
   "cell_type": "code",
   "execution_count": null,
   "metadata": {},
   "outputs": [],
   "source": []
  }
 ],
 "metadata": {
  "kernelspec": {
   "display_name": "venv",
   "language": "python",
   "name": "python3"
  },
  "language_info": {
   "codemirror_mode": {
    "name": "ipython",
    "version": 3
   },
   "file_extension": ".py",
   "mimetype": "text/x-python",
   "name": "python",
   "nbconvert_exporter": "python",
   "pygments_lexer": "ipython3",
   "version": "3.8.3"
  }
 },
 "nbformat": 4,
 "nbformat_minor": 2
}
